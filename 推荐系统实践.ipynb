{
 "cells": [
  {
   "cell_type": "markdown",
   "metadata": {},
   "source": [
    "# 数据部分"
   ]
  },
  {
   "cell_type": "code",
   "execution_count": 1,
   "metadata": {},
   "outputs": [],
   "source": [
    "movie_path = \"./data/ml-1m/movies.dat\"\n",
    "user_path = \"./data/ml-1m/users.dat\"\n",
    "rating_path = \"./data/ml-1m/ratings.dat\""
   ]
  },
  {
   "cell_type": "code",
   "execution_count": 2,
   "metadata": {},
   "outputs": [
    {
     "data": {
      "text/plain": [
       "<module 'data_helper' from './data/ml-1m/data_helper.py'>"
      ]
     },
     "execution_count": 2,
     "metadata": {},
     "output_type": "execute_result"
    }
   ],
   "source": [
    "from sys import path\n",
    "path.append(\"./data/ml-1m/\")\n",
    "import data_helper\n",
    "from imp import reload\n",
    "reload(data_helper)\n",
    "\n"
   ]
  },
  {
   "cell_type": "markdown",
   "metadata": {},
   "source": [
    "##  电影数据"
   ]
  },
  {
   "cell_type": "markdown",
   "metadata": {},
   "source": [
    "格式:\n",
    ">MovieID::Title::Genres\n",
    "\n",
    "- Titles are identical to titles provided by the IMDB (including\n",
    "year of release)\n",
    "- Genres are pipe-separated and are selected from the following genres:\n",
    "\n",
    "        * Action\n",
    "        * Adventure\n",
    "        * Animation\n",
    "        * Children's\n",
    "        * Comedy\n",
    "        * Crime\n",
    "        * Documentary\n",
    "        * Drama\n",
    "        * Fantasy\n",
    "        * Film-Noir\n",
    "        * Horror\n",
    "        * Musical\n",
    "        * Mystery\n",
    "        * Romance\n",
    "        * Sci-Fi\n",
    "        * Thriller\n",
    "        * War\n"
   ]
  },
  {
   "cell_type": "code",
   "execution_count": 3,
   "metadata": {},
   "outputs": [],
   "source": [
    "movies = data_helper.read_movies(movie_path)"
   ]
  },
  {
   "cell_type": "markdown",
   "metadata": {},
   "source": [
    "## 用户数据"
   ]
  },
  {
   "cell_type": "markdown",
   "metadata": {},
   "source": [
    "格式:\n",
    ">UserID::Gender::Age::Occupation::Zip-code\n",
    "\n",
    "- Gender is denoted by a \"M\" for male and \"F\" for female\n",
    "- Age is chosen from the following ranges:\n",
    "\n",
    "        *  1:  \"Under 18\"\n",
    "        * 18:  \"18-24\"\n",
    "        * 25:  \"25-34\"\n",
    "        * 35:  \"35-44\"\n",
    "        * 45:  \"45-49\"\n",
    "        * 50:  \"50-55\"\n",
    "        * 56:  \"56+\"\n",
    "\n",
    "- Occupation is chosen from the following choices:\n",
    "\n",
    "        *  0:  \"other\" or not specified\n",
    "        *  1:  \"academic/educator\"\n",
    "        *  2:  \"artist\"\n",
    "        *  3:  \"clerical/admin\"\n",
    "        *  4:  \"college/grad student\"\n",
    "        *  5:  \"customer service\"\n",
    "        *  6:  \"doctor/health care\"\n",
    "        *  7:  \"executive/managerial\"\n",
    "        *  8:  \"farmer\"\n",
    "        *  9:  \"homemaker\"\n",
    "        * 10:  \"K-12 student\"\n",
    "        * 11:  \"lawyer\"\n",
    "        * 12:  \"programmer\"\n",
    "        * 13:  \"retired\"\n",
    "        * 14:  \"sales/marketing\"\n",
    "        * 15:  \"scientist\"\n",
    "        * 16:  \"self-employed\"\n",
    "        * 17:  \"technician/engineer\"\n",
    "        * 18:  \"tradesman/craftsman\"\n",
    "        * 19:  \"unemployed\"\n",
    "        * 20:  \"writer\"\n"
   ]
  },
  {
   "cell_type": "code",
   "execution_count": 4,
   "metadata": {},
   "outputs": [],
   "source": [
    "users = data_helper.read_users(user_path)"
   ]
  },
  {
   "cell_type": "markdown",
   "metadata": {},
   "source": [
    "## 点击数据"
   ]
  },
  {
   "cell_type": "markdown",
   "metadata": {},
   "source": [
    "格式：\n",
    ">serID::MovieID::Rating::Timestamp\n",
    "\n",
    "    - UserIDs range between 1 and 6040\n",
    "    - MovieIDs range between 1 and 3952\n",
    "    - Ratings are made on a 5-star scale (whole-star ratings only)\n",
    "    - Timestamp is represented in seconds since the epoch as returned by time(2)\n",
    "    - Each user has at least 20 ratings\n"
   ]
  },
  {
   "cell_type": "code",
   "execution_count": 3,
   "metadata": {},
   "outputs": [],
   "source": [
    "train_set,test_set = data_helper.read_ratings(rating_path)"
   ]
  },
  {
   "cell_type": "markdown",
   "metadata": {},
   "source": [
    "### 下采样"
   ]
  },
  {
   "cell_type": "code",
   "execution_count": 4,
   "metadata": {},
   "outputs": [],
   "source": [
    "import random\n",
    "\n",
    "trainset = dict()\n",
    "testset = dict()\n",
    "\n",
    "t = random.sample(train_set.keys(),100)\n",
    "for k in t:trainset[k] = train_set[k]\n",
    "t = random.sample(test_set.keys(),250)\n",
    "for k in t:testset[k] = test_set[k]\n",
    "    \n",
    "del k,t,train_set,test_set"
   ]
  },
  {
   "cell_type": "markdown",
   "metadata": {},
   "source": [
    "## 分离训练集和测试集"
   ]
  },
  {
   "cell_type": "markdown",
   "metadata": {},
   "source": [
    "# 协同过滤"
   ]
  },
  {
   "cell_type": "code",
   "execution_count": 41,
   "metadata": {},
   "outputs": [],
   "source": [
    "import random\n",
    "\n",
    "def splitData(data,M,k,seed):\n",
    "    \"\"\"\n",
    "        将数据分成训练集和测试集\n",
    "        Args:\n",
    "            data :   数据\n",
    "            M :   一共分的份数\n",
    "            k :   第几份\n",
    "            seed :    random的seed\n",
    "        Return:\n",
    "            训练集，测试集\n",
    "    \"\"\"\n",
    "    train = dict()\n",
    "    test = dict()\n",
    "    \n",
    "    random.seed(seed)\n",
    "    for user,item in data.items():\n",
    "        if random.randint(0,M) == k:\n",
    "            test[user] = item\n",
    "        else:\n",
    "            train[user] = item\n",
    "            \n",
    "    return train,test\n",
    "        "
   ]
  },
  {
   "cell_type": "markdown",
   "metadata": {},
   "source": [
    "## 测评指标"
   ]
  },
  {
   "cell_type": "markdown",
   "metadata": {},
   "source": [
    "对用户 u 推荐 N 个物品(记为 R ( u ) ),令用户 u 在测试集上喜欢的物品集合为 T ( u ) ,然后可以通\n",
    "过准确率 / 召回率评测推荐算法的精度:\n",
    "<br>\n",
    "<br>\n",
    "<br>\n",
    "        $$Recall=\\frac{\\sum_u{\\mid R(u)\\bigcap T(u)}\\mid}{\\sum_u{\\mid T(u) \\mid} }$$\n",
    "        $$Precision=\\frac{\\sum_u{\\mid R(u)\\bigcap T(u) \\mid} }{\\sum_u{\\mid R(u) \\mid}}$$"
   ]
  },
  {
   "cell_type": "markdown",
   "metadata": {},
   "source": [
    "### Recall"
   ]
  },
  {
   "cell_type": "code",
   "execution_count": 39,
   "metadata": {},
   "outputs": [],
   "source": [
    "def recall(trainSet,testSet,W,N):\n",
    "    hit = 0.\n",
    "    r = 0.\n",
    "    for user,items in testSet.items():\n",
    "        rank = recommend(user = user,train = trainSet,W = W,N = N)\n",
    "        hit += len(set(items.keys()) & set(rank.keys()))\n",
    "        r += len(items.keys())\n",
    "        \n",
    "    return hit / r"
   ]
  },
  {
   "cell_type": "markdown",
   "metadata": {},
   "source": [
    "### Precision"
   ]
  },
  {
   "cell_type": "code",
   "execution_count": 45,
   "metadata": {},
   "outputs": [],
   "source": [
    "def precision(trainSet,testSet,W,N):\n",
    "    hit = 0.\n",
    "    r = 0.\n",
    "    for user,items in testSet.items():\n",
    "        rank = recommend(user = user,train = trainSet,W = W,N = N)\n",
    "        hit += len(set(items.keys()) & set(rank.keys()))\n",
    "        r += len(rank.keys())\n",
    "        \n",
    "    return hit / r"
   ]
  },
  {
   "cell_type": "markdown",
   "metadata": {},
   "source": [
    "### Coverage"
   ]
  },
  {
   "cell_type": "markdown",
   "metadata": {},
   "source": [
    ">覆盖率反映了推荐算法发掘长尾的能力,覆盖率越高,说明推荐算法越能够将长尾中的物品推荐给用户。这里,我们采用最简单的覆盖率定义:\n",
    "$$Coverage = \\frac{\\mid \\bigcup_{u\\in U} R(u) \\mid}{\\mid I \\mid}$$\n",
    "该覆盖率表示最终的推荐列表中包含多大比例的物品。如果所有的物品都被推荐给至少一个\n",
    "用户,那么覆盖率就是 100% 。"
   ]
  },
  {
   "cell_type": "code",
   "execution_count": 9,
   "metadata": {},
   "outputs": [],
   "source": [
    "def Coverage(train,test,N):\n",
    "    \"\"\"\n",
    "    \"\"\"\n",
    "    recommend_items = set()\n",
    "    all_items = set()\n",
    "    for user in train.keys():\n",
    "        for item in train[user].keys():\n",
    "            all_items.add(item)\n",
    "        rank = GetRecommendation(user,N)\n",
    "        for item,pui in rank:\n",
    "            recommend_item.add(item)\n",
    "    return len(recommend_items) / (len(all_items) * 1.0)"
   ]
  },
  {
   "cell_type": "markdown",
   "metadata": {},
   "source": [
    "### 新疑度"
   ]
  },
  {
   "cell_type": "code",
   "execution_count": 12,
   "metadata": {},
   "outputs": [],
   "source": [
    "import math\n",
    "\n",
    "def Popularity(train,test,N):\n",
    "    item_popularity = dict()\n",
    "    for user,items in train.items():\n",
    "        for item in items.keys():\n",
    "            if item not in item_popularity:\n",
    "                item_popularity[item] = 0\n",
    "            item_popularity[item] += 1\n",
    "    ret = 0\n",
    "    n = 0\n",
    "    for user in train.keys():\n",
    "        rank = GetRecommendation(user,N)\n",
    "        for item,pui in rank:\n",
    "            ret += math.log(1 + item_popularity[item])\n",
    "            n += 1\n",
    "    ret /= n * 1.0\n",
    "    return ret"
   ]
  },
  {
   "cell_type": "markdown",
   "metadata": {},
   "source": [
    "## 基于用户的的协同过滤"
   ]
  },
  {
   "cell_type": "markdown",
   "metadata": {},
   "source": [
    "从上面的描述中可以看到,基于用户的协同过滤算法主要包括两个步骤。\n",
    "1. 找到和目标用户兴趣相似的用户集合。\n",
    "2. 找到这个集合中的用户喜欢的,且目标用户没有听说过的物品推荐给目标用户。\n",
    "\n",
    "步骤 (1) 的关键就是计算两个用户的兴趣相似度。这里,协同过滤算法主要利用行为的相似度\n",
    "计算兴趣的相似度。给定用户 u 和用户 v ,令 N(u) 表示用户 u 曾经有过正反馈的物品集合,令 N(v)\n",
    "为用户 v 曾经有过正反馈的物品集合。那么,我们可以通过如下的 Jaccard 公式简单地计算 u 和 v 的\n",
    "兴趣相似度:\n",
    "$$w_{uv}=\\frac{\\mid N(u)\\bigcap N(v) \\mid}{\\mid N(u) \\bigcup N(v) \\mid}$$\n",
    "或者通过余弦相似度计算:\n",
    "$$w_{uv}=\\frac{\\mid N(u)\\bigcap N(v) \\mid}{\\sqrt{\\mid N(u) \\mid \\mid  N(v) \\mid}}$$\n",
    "\n",
    "实际上，以上的方式也可以看作一个稀疏矩阵（列表示Item，行表示User）\n",
    "\n",
    "<br>\n",
    "\n",
    "|User\\Item | a | b | c | d | e |\n",
    "| - | :-: | -: | \n",
    "| A | 0 | 1 | 0 | 0 | 1 |\n",
    "| B | 1 | 0 | 1 | 0 | 1 |\n",
    "| C | 1 | 1 | 1 | 0 | 1 |\n",
    "| D | 0 | 0 | 0 | 0 | 1 |\n",
    "\n"
   ]
  },
  {
   "cell_type": "markdown",
   "metadata": {},
   "source": [
    "### 计算相似性矩阵"
   ]
  },
  {
   "cell_type": "code",
   "execution_count": 8,
   "metadata": {},
   "outputs": [],
   "source": [
    "import math\n",
    "\n",
    "def UserSimilarity(train):\n",
    "    \"\"\"计算相似性的矩阵\"\"\"\n",
    "    W = dict()\n",
    "    for u,u_items in train.items():\n",
    "        for v,v_items in train.items():\n",
    "            W.setdefault(u,{})\n",
    "            union = set(u_items.keys()) & set(v_items.keys())\n",
    "            if u == v : continue\n",
    "            W[u][v] = len(union) / math.sqrt(len(u_items.keys()) * len(v_items.keys()))\n",
    "            \n",
    "    return W"
   ]
  },
  {
   "cell_type": "markdown",
   "metadata": {},
   "source": [
    "### 相似性矩阵的改进"
   ]
  },
  {
   "cell_type": "code",
   "execution_count": 5,
   "metadata": {},
   "outputs": [],
   "source": [
    "from collections import defaultdict\n",
    "import math\n",
    "\n",
    "def UserSimilarity(train):\n",
    "    \"\"\"计算相似性矩阵\"\"\"\n",
    "    W = dict()\n",
    "    \n",
    "    item2user = defaultdict(set)\n",
    "    for user,items in train.items():\n",
    "        for item in items.keys():\n",
    "            item2user[item].add(user)\n",
    "            \n",
    "    N = defaultdict(int)\n",
    "    C = dict()\n",
    "    \n",
    "    for item,users in item2user.items():\n",
    "        for u in users:\n",
    "            N[u] += 1\n",
    "            C.setdefault(u,defaultdict(int)) \n",
    "            for v in users:\n",
    "                if u == v:\n",
    "                    continue\n",
    "                C[u][v] += 1    \n",
    "    W = dict()\n",
    "    for u,uc in C.items():\n",
    "        for v,c in uc.items():\n",
    "            W.setdefault(u,defaultdict(float))\n",
    "            W[u][v] = C[u][v] / math.sqrt(N[u] * N[v])\n",
    "            \n",
    "    return W"
   ]
  },
  {
   "cell_type": "markdown",
   "metadata": {},
   "source": [
    "### 推荐函数主体"
   ]
  },
  {
   "cell_type": "code",
   "execution_count": 43,
   "metadata": {},
   "outputs": [],
   "source": [
    "from collections import defaultdict\n",
    "from operator import itemgetter\n",
    "\n",
    "def recommend(user,train,W,N = 10,K = 80):\n",
    "    \"\"\"给user推荐商品,N表示推荐前多少个，K表示找最近的K的用户，W表示相似性矩阵\"\"\"\n",
    "    rank = defaultdict(int)\n",
    "    #得到user已经购买的商品\n",
    "    user_items = train.get(user,{})\n",
    "    for v,similarity in sorted(W.get(user,{}).items(),key = itemgetter(1))[:K]:\n",
    "        for item,rate in train[v].items():\n",
    "            if item in user_items: continue\n",
    "            rank[item] += similarity * rate\n",
    "            \n",
    "    #对结果排序\n",
    "    rank = sorted(rank.items(),key = itemgetter(1),reverse = True)[:N]\n",
    "    return dict(rank)\n",
    "            "
   ]
  },
  {
   "cell_type": "markdown",
   "metadata": {},
   "source": [
    "### 测试"
   ]
  },
  {
   "cell_type": "code",
   "execution_count": 47,
   "metadata": {},
   "outputs": [
    {
     "name": "stdout",
     "output_type": "stream",
     "text": [
      "Recall : 0.006844064826982041\n",
      "Precision : 0.06188118811881188\n"
     ]
    }
   ],
   "source": [
    "if __name__ == \"__main__\":\n",
    "    #获取相似性的矩阵\n",
    "    W = UserSimilarity(train = trainset)\n",
    "    \n",
    "    recall_s = recall(trainSet = trainset,testSet = testset,W = W,N = 20)\n",
    "    precision_s = precision(trainSet = trainset,testSet = testset,W = W,N = 20)\n",
    "    \n",
    "    print(\"Recall : {}\".format(recall_s))\n",
    "    print(\"Precision : {}\".format(precision_s))"
   ]
  },
  {
   "cell_type": "markdown",
   "metadata": {},
   "source": [
    "## 基于Item的协同过滤"
   ]
  },
  {
   "cell_type": "markdown",
   "metadata": {},
   "source": [
    "### Item的相似性矩阵"
   ]
  },
  {
   "cell_type": "code",
   "execution_count": 5,
   "metadata": {},
   "outputs": [],
   "source": [
    "from collections import defaultdict\n",
    "import math\n",
    "\n",
    "def ItemSimilarity(train):\n",
    "    \"\"\"\"\"\"\n",
    "    movie2user = dict()\n",
    "    for user,movies in train.items():\n",
    "        for movie,rating in movies.items():\n",
    "            movie2user.setdefault(movie,set())\n",
    "            movie2user[movie].add(user)\n",
    "   \n",
    "    W = dict()\n",
    "    for i,i_users in movie2user.items():\n",
    "        W.setdefault(i,{})\n",
    "        for j,j_users in movie2user.items():\n",
    "            if i == j:\n",
    "                continue\n",
    "            #统计交集的数量\n",
    "            union_count = len(i_users & j_users)\n",
    "            W[i][j] = union_count / math.sqrt(len(i_users) *len(j_users))\n",
    "        \n",
    "    return W"
   ]
  },
  {
   "cell_type": "markdown",
   "metadata": {},
   "source": [
    "### 测试"
   ]
  },
  {
   "cell_type": "code",
   "execution_count": 6,
   "metadata": {},
   "outputs": [],
   "source": [
    "if __name__ == \"__main__\":\n",
    "    W = ItemSimilarity(trainset)"
   ]
  },
  {
   "cell_type": "code",
   "execution_count": null,
   "metadata": {},
   "outputs": [],
   "source": []
  }
 ],
 "metadata": {
  "kernelspec": {
   "display_name": "Python 3",
   "language": "python",
   "name": "python3"
  },
  "language_info": {
   "codemirror_mode": {
    "name": "ipython",
    "version": 3
   },
   "file_extension": ".py",
   "mimetype": "text/x-python",
   "name": "python",
   "nbconvert_exporter": "python",
   "pygments_lexer": "ipython3",
   "version": "3.4.5"
  },
  "toc": {
   "nav_menu": {},
   "number_sections": true,
   "sideBar": true,
   "skip_h1_title": false,
   "title_cell": "Table of Contents",
   "title_sidebar": "Contents",
   "toc_cell": false,
   "toc_position": {
    "height": "calc(100% - 180px)",
    "left": "10px",
    "top": "150px",
    "width": "270px"
   },
   "toc_section_display": true,
   "toc_window_display": true
  },
  "varInspector": {
   "cols": {
    "lenName": 16,
    "lenType": 16,
    "lenVar": 40
   },
   "kernels_config": {
    "python": {
     "delete_cmd_postfix": "",
     "delete_cmd_prefix": "del ",
     "library": "var_list.py",
     "varRefreshCmd": "print(var_dic_list())"
    },
    "r": {
     "delete_cmd_postfix": ") ",
     "delete_cmd_prefix": "rm(",
     "library": "var_list.r",
     "varRefreshCmd": "cat(var_dic_list()) "
    }
   },
   "oldHeight": 297.233334,
   "position": {
    "height": "442px",
    "left": "858.967px",
    "right": "139px",
    "top": "114px",
    "width": "350px"
   },
   "types_to_exclude": [
    "module",
    "function",
    "builtin_function_or_method",
    "instance",
    "_Feature"
   ],
   "varInspector_section_display": "block",
   "window_display": true
  }
 },
 "nbformat": 4,
 "nbformat_minor": 2
}
